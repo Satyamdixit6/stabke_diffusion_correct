{
 "cells": [
  {
   "cell_type": "code",
   "execution_count": 12,
   "metadata": {},
   "outputs": [],
   "source": [
    "import torch\n",
    "import torch.nn as nn\n",
    "from torch.nn import functional as F\n",
    "#from decoder import VAE_RESDIUAL,VAE_ATTENTION\n"
   ]
  },
  {
   "cell_type": "code",
   "execution_count": 10,
   "metadata": {},
   "outputs": [],
   "source": [
    "VAE_RESDIUAL,VAE_ATTENTION=1,1\n",
    "class Encoder(nn.Sequential):\n",
    "    def __init__(self):\n",
    "        super().__init__(\n",
    "            nn.Conv2d(3,128,kernel_size=3,padding=1),\n",
    "            VAE_RESDIUAL(128,128),\n",
    "            VAE_RESDIUAL(128,128),\n",
    "            nn.Conv2d(128,128,kernel_size=3,stride=2,padding=0),\n",
    "            VAE_RESDIUAL(128,256),\n",
    "            VAE_RESDIUAL(256,256),\n",
    "            nn.Conv2d(256,256,kernel_size=3,stride=2,padding=0),\n",
    "            VAE_RESDIUAL(256,512),\n",
    "            VAE_RESDIUAL(512,512),\n",
    "            nn.Conv2d(512,512,kernel_size=3,stride=2,padding=0),\n",
    "            VAE_RESDIUAL(512,512),\n",
    "            VAE_RESDIUAL(512,512),\n",
    "            VAE_RESDIUAL(512,512),\n",
    "            VAE_ATTENTION(512),\n",
    "            VAE_RESDIUAL(512,512),\n",
    "            F.group_norm(32,512),\n",
    "            F.silu()\n",
    "        )\n",
    "    def forward(self,x:torch.Tensor,noise:torch.Tensor)->torch.Tensor:\n",
    "        for module in self:\n",
    "            if getattr(module,\"stride\",None)==(2,2):\n",
    "                x=F.pad(x,[0,1,0,1])\n",
    "            x=module(x)\n",
    "            mean,log_varience=torch.chunk(x,2,1)\n",
    "            log_varience=torch.clamp(log_varience,-30,20)\n",
    "            varience=log_varience.exp()\n",
    "            std=torch.sqrt(varience)\n",
    "            # mean+std*sigma here sigma is noise \n",
    "            x=mean+std*noise\n",
    "            x*=0.18215\n",
    "            return x\n",
    "\n"
   ]
  }
 ],
 "metadata": {
  "kernelspec": {
   "display_name": "Python 3",
   "language": "python",
   "name": "python3"
  },
  "language_info": {
   "codemirror_mode": {
    "name": "ipython",
    "version": 3
   },
   "file_extension": ".py",
   "mimetype": "text/x-python",
   "name": "python",
   "nbconvert_exporter": "python",
   "pygments_lexer": "ipython3",
   "version": "3.12.5"
  }
 },
 "nbformat": 4,
 "nbformat_minor": 2
}
