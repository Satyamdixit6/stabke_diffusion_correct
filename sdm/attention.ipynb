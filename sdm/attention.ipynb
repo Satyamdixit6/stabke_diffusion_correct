{
 "cells": [
  {
   "cell_type": "code",
   "execution_count": 1,
   "metadata": {},
   "outputs": [],
   "source": [
    "import torch\n",
    "from torch import nn\n",
    "from torch.nn import functional as F\n",
    "import math\n"
   ]
  },
  {
   "cell_type": "code",
   "execution_count": null,
   "metadata": {},
   "outputs": [],
   "source": [
    "class Self_Attention(nn.Module):\n",
    "    def __init__(self,n_heads:int,d_embed,in_porj=True,out_porj=True):\n",
    "        super().__init__()\n",
    "        self.n_heads=n_heads\n",
    "        self.d_embed=d_embed\n",
    "        self.in_porj=nn.Linear(d_embed,d_embed*3,bias=in_porj)\n",
    "        self.out_porj=nn.Linear(d_embed,d_embed,bias=out_porj)\n",
    "        self.d_heads=d_embed//n_heads\n",
    "    def forward(self,x:torch.Tensor,mask=None):\n",
    "        # x batch,channels,w,h\n",
    "        # w*h represent seq_len=each_pixcel and channels diffine its embeddig cause each channels capture different property=wieghts \n",
    "\n",
    "        inshape=x.shape\n",
    "        batch_size,seq_len,embedding=inshape\n",
    "        interim_shape=batch_size,seq_len,self.n_heads,self.d_heads\n",
    "        q,k,v=self.in_porj(x).chunk(3,-1)\n",
    "        \n",
    "        q=q.view(interim_shape).transpose(1,2)\n",
    "        k=k.view(interim_shape).transpose(1,2)\n",
    "        v=v.view(interim_shape).transpose(1,2)\n",
    "        \n",
    "        weight=q@k.transpose(-1,-2)\n",
    "        if mask:\n",
    "            mask=torch.ones_like(weight,dtype=torch.bool).triu(1)\n",
    "            weight.masked_fill(mask,-torch.inf)\n",
    "        weight/=math.sqrt(self.d_heads)\n",
    "        weight=F.softmax(weight,dim=-1)\n",
    "        out_put=weight@v\n",
    "        out_put=self.out_porj(out_put)\n",
    "        return out_put\n",
    "\n",
    "        \n"
   ]
  },
  {
   "cell_type": "code",
   "execution_count": 16,
   "metadata": {},
   "outputs": [
    {
     "name": "stdout",
     "output_type": "stream",
     "text": [
      "torch.Size([1, 4, 256, 256])\n"
     ]
    },
    {
     "data": {
      "text/plain": [
       "torch.Size([1, 4, 256, 4])"
      ]
     },
     "execution_count": 16,
     "metadata": {},
     "output_type": "execute_result"
    }
   ],
   "source": [
    "n=torch.rand(1,4,256,4)\n",
    "k=torch.rand(1,4,256,4).transpose(-1,-2)\n",
    "z=n@k\n",
    "print(z.shape)\n",
    "v=torch.rand(1,4,256,4)\n",
    "o=z@v\n",
    "o.shape"
   ]
  },
  {
   "cell_type": "code",
   "execution_count": null,
   "metadata": {},
   "outputs": [],
   "source": []
  }
 ],
 "metadata": {
  "kernelspec": {
   "display_name": "Python 3",
   "language": "python",
   "name": "python3"
  },
  "language_info": {
   "codemirror_mode": {
    "name": "ipython",
    "version": 3
   },
   "file_extension": ".py",
   "mimetype": "text/x-python",
   "name": "python",
   "nbconvert_exporter": "python",
   "pygments_lexer": "ipython3",
   "version": "3.12.4"
  }
 },
 "nbformat": 4,
 "nbformat_minor": 2
}
