{
 "cells": [
  {
   "cell_type": "code",
   "execution_count": 3,
   "metadata": {},
   "outputs": [],
   "source": [
    "import torch\n",
    "import torch.nn as nn\n",
    "from torch.nn import functional as F\n",
    "#from attention import SelfAttention\n"
   ]
  },
  {
   "cell_type": "code",
   "execution_count": 4,
   "metadata": {},
   "outputs": [],
   "source": [
    "class VAE_Residual(nn.Module):\n",
    "    def __init__(self,in_channels,out_channels):\n",
    "        super().__init__()\n",
    "        self.gnorm1=nn.GroupNorm(32,in_channels)\n",
    "        self.conv1=nn.Conv2d(in_channels,out_channels,kernel_size=3,padding=1)\n",
    "        self.gnorm2=nn.GroupNorm(32,out_channels)\n",
    "        self.conv2=nn.Conv2d(out_channels,out_channels,kernel_size=3,padding=1)\n",
    "        if in_channels==out_channels:\n",
    "            self.residual=nn.Identity()\n",
    "        else:\n",
    "            self.residual=nn.Conv2d(in_channels,out_channels,kernel_size=1,padding=0)\n",
    "    def forward(self,x:torch.Tensor)->torch.Tensor:\n",
    "        residue=x\n",
    "        x=self.gnorm1(x)\n",
    "        x=self.conv1(x)\n",
    "        x=F.silu(x)\n",
    "        x=self.gnorm2(x)\n",
    "        x=self.conv2(x)\n",
    "        x=F.silu(x)\n",
    "        return x+self.residual(residue)"
   ]
  },
  {
   "cell_type": "code",
   "execution_count": 5,
   "metadata": {},
   "outputs": [],
   "source": [
    "SelfAttention=1\n",
    "class VAE_Attention(nn.Module):\n",
    "    def __init__(self,channels):\n",
    "        super().__init__()\n",
    "        self.gnorm=nn.GroupNorm(32,channels)\n",
    "        self.attetion=SelfAttention(1,channels)\n",
    "    def forward(self,x:torch.Tensor)->torch.Tensor:\n",
    "        resdiue=x\n",
    "        b,c,w,h=x.shape\n",
    "        x=x.view(b,c,w*h)\n",
    "        x=x.transpose(-1,-2)\n",
    "        x=self.attetion(x)\n",
    "        x=x.transpose(-1,-2)\n",
    "        x=x.view(b,c,w,h)\n",
    "        x=x+resdiue\n",
    "        return x"
   ]
  },
  {
   "cell_type": "code",
   "execution_count": null,
   "metadata": {},
   "outputs": [],
   "source": [
    "class Decoder(nn.ModuleList):\n",
    "    def __init__(self):\n",
    "        super().__init__(\n",
    "            nn.Conv2d(4,4,kernel_size=1,padding=0),\n",
    "            nn.Conv2d(4,512,kernel_size=3,padding=1),\n",
    "            VAE_Residual(512,512),\n",
    "            VAE_Attention(512,512),\n",
    "            VAE_Residual(512,512),\n",
    "            VAE_Residual(512,512),\n",
    "            VAE_Residual(512,512),\n",
    "            VAE_Residual(512,512),\n",
    "            nn.Upsample(scale_factor=2),\n",
    "            nn.Conv2d(512,512,kernel_size=3,padding=1),\n",
    "            VAE_Residual(512,512),\n",
    "            VAE_Residual(512,512),\n",
    "            VAE_Residual(512,512),\n",
    "            nn.Upsample(scale_factor=2),\n",
    "            nn.Conv2d(512,512,kernel_size=3,padding=1),\n",
    "            VAE_Residual(512,256),\n",
    "            VAE_Residual(512,256),\n",
    "            VAE_Residual(512,256),\n",
    "            nn.Upsample(scale_factor=2),\n",
    "            nn.Conv2d(256,256,kernel_size=3,padding=1),\n",
    "            VAE_Residual(256,128),\n",
    "            VAE_Residual(256,128),\n",
    "            VAE_Residual(256,128),\n",
    "            nn.GroupNorm(32,128),\n",
    "            F.silu(),\n",
    "            nn.Conv2d(128,3,kernel_size=3,padding=1)\n",
    "          \n",
    "        )\n",
    "    def forward(self,x:torch.Tensor)->torch.Tensor:\n",
    "        # x is the shape of batch_size,512,channels h/8,w/8\n",
    "        x/=0.18215\n",
    "        for module in self:\n",
    "            x=module(x)\n",
    "        return x\n"
   ]
  }
 ],
 "metadata": {
  "kernelspec": {
   "display_name": "Python 3",
   "language": "python",
   "name": "python3"
  },
  "language_info": {
   "codemirror_mode": {
    "name": "ipython",
    "version": 3
   },
   "file_extension": ".py",
   "mimetype": "text/x-python",
   "name": "python",
   "nbconvert_exporter": "python",
   "pygments_lexer": "ipython3",
   "version": "3.12.5"
  }
 },
 "nbformat": 4,
 "nbformat_minor": 2
}
